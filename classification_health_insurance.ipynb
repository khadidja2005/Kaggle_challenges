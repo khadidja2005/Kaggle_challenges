{
 "cells": [
  {
   "cell_type": "code",
   "execution_count": 1,
   "id": "d73bd358",
   "metadata": {
    "_cell_guid": "b1076dfc-b9ad-4769-8c92-a6c4dae69d19",
    "_uuid": "8f2839f25d086af736a60e9eeb907d3b93b6e0e5",
    "execution": {
     "iopub.execute_input": "2024-07-03T23:53:33.282023Z",
     "iopub.status.busy": "2024-07-03T23:53:33.281619Z",
     "iopub.status.idle": "2024-07-03T23:53:34.033935Z",
     "shell.execute_reply": "2024-07-03T23:53:34.032986Z"
    },
    "papermill": {
     "duration": 0.763977,
     "end_time": "2024-07-03T23:53:34.036535",
     "exception": false,
     "start_time": "2024-07-03T23:53:33.272558",
     "status": "completed"
    },
    "tags": []
   },
   "outputs": [
    {
     "name": "stdout",
     "output_type": "stream",
     "text": [
      "/kaggle/input/playground-series-s4e7/sample_submission.csv\n",
      "/kaggle/input/playground-series-s4e7/train.csv\n",
      "/kaggle/input/playground-series-s4e7/test.csv\n"
     ]
    }
   ],
   "source": [
    "# This Python 3 environment comes with many helpful analytics libraries installed\n",
    "# It is defined by the kaggle/python Docker image: https://github.com/kaggle/docker-python\n",
    "# For example, here's several helpful packages to load\n",
    "\n",
    "import numpy as np # linear algebra\n",
    "import pandas as pd # data processing, CSV file I/O (e.g. pd.read_csv)\n",
    "\n",
    "# Input data files are available in the read-only \"../input/\" directory\n",
    "# For example, running this (by clicking run or pressing Shift+Enter) will list all files under the input directory\n",
    "\n",
    "import os\n",
    "for dirname, _, filenames in os.walk('/kaggle/input'):\n",
    "    for filename in filenames:\n",
    "        print(os.path.join(dirname, filename))\n",
    "\n",
    "# You can write up to 20GB to the current directory (/kaggle/working/) that gets preserved as output when you create a version using \"Save & Run All\" \n",
    "# You can also write temporary files to /kaggle/temp/, but they won't be saved outside of the current session"
   ]
  },
  {
   "cell_type": "code",
   "execution_count": 2,
   "id": "721afbba",
   "metadata": {
    "execution": {
     "iopub.execute_input": "2024-07-03T23:53:34.052877Z",
     "iopub.status.busy": "2024-07-03T23:53:34.052491Z",
     "iopub.status.idle": "2024-07-03T23:53:36.105508Z",
     "shell.execute_reply": "2024-07-03T23:53:36.104707Z"
    },
    "papermill": {
     "duration": 2.063592,
     "end_time": "2024-07-03T23:53:36.107951",
     "exception": false,
     "start_time": "2024-07-03T23:53:34.044359",
     "status": "completed"
    },
    "tags": []
   },
   "outputs": [],
   "source": [
    "#basics\n",
    "import numpy as np\n",
    "import pandas as pd \n",
    "import seaborn as sns\n",
    "import time\n",
    "import matplotlib.pyplot as plt\n",
    "import missingno as msno\n",
    "\n",
    "import warnings\n",
    "warnings.filterwarnings(\"ignore\")\n",
    "\n",
    "#preprocessing\n",
    "\n",
    "#feature engineering\n",
    "from sklearn.feature_selection import mutual_info_classif\n",
    "\n",
    "#transformers and pipeline\n",
    "from sklearn.base import BaseEstimator, TransformerMixin\n",
    "from sklearn.compose import ColumnTransformer\n",
    "from sklearn.pipeline import Pipeline, make_pipeline, FeatureUnion\n",
    "from sklearn import set_config\n",
    "\n",
    "#algorithms\n",
    "from xgboost import XGBClassifier\n",
    "import xgboost as xgb\n",
    "\n",
    "\n",
    "#model evaluation\n",
    "from sklearn.model_selection import cross_val_score, cross_validate\n",
    "from sklearn.model_selection import StratifiedShuffleSplit, StratifiedKFold\n",
    "from sklearn.model_selection import train_test_split\n",
    "from sklearn.metrics import roc_auc_score, log_loss, auc, accuracy_score, balanced_accuracy_score\n",
    "from sklearn.metrics import make_scorer, RocCurveDisplay, confusion_matrix\n",
    "\n",
    "# Optuna and visualization tools\n",
    "import optuna\n",
    "from optuna.samplers import TPESampler\n",
    "from optuna.visualization import plot_contour\n",
    "from optuna.visualization import plot_edf\n",
    "from optuna.visualization import plot_intermediate_values\n",
    "from optuna.visualization import plot_optimization_history\n",
    "from optuna.visualization import plot_parallel_coordinate\n",
    "from optuna.visualization import plot_param_importances\n",
    "from optuna.visualization import plot_slice\n",
    "\n",
    "random_state = 42"
   ]
  },
  {
   "cell_type": "code",
   "execution_count": 3,
   "id": "268d4783",
   "metadata": {
    "execution": {
     "iopub.execute_input": "2024-07-03T23:53:36.123643Z",
     "iopub.status.busy": "2024-07-03T23:53:36.123343Z",
     "iopub.status.idle": "2024-07-03T23:54:10.864510Z",
     "shell.execute_reply": "2024-07-03T23:54:10.863629Z"
    },
    "papermill": {
     "duration": 34.758809,
     "end_time": "2024-07-03T23:54:10.874121",
     "exception": false,
     "start_time": "2024-07-03T23:53:36.115312",
     "status": "completed"
    },
    "tags": []
   },
   "outputs": [
    {
     "data": {
      "text/html": [
       "<div>\n",
       "<style scoped>\n",
       "    .dataframe tbody tr th:only-of-type {\n",
       "        vertical-align: middle;\n",
       "    }\n",
       "\n",
       "    .dataframe tbody tr th {\n",
       "        vertical-align: top;\n",
       "    }\n",
       "\n",
       "    .dataframe thead th {\n",
       "        text-align: right;\n",
       "    }\n",
       "</style>\n",
       "<table border=\"1\" class=\"dataframe\">\n",
       "  <thead>\n",
       "    <tr style=\"text-align: right;\">\n",
       "      <th></th>\n",
       "      <th>id</th>\n",
       "      <th>Gender</th>\n",
       "      <th>Age</th>\n",
       "      <th>Driving_License</th>\n",
       "      <th>Region_Code</th>\n",
       "      <th>Previously_Insured</th>\n",
       "      <th>Vehicle_Age</th>\n",
       "      <th>Vehicle_Damage</th>\n",
       "      <th>Annual_Premium</th>\n",
       "      <th>Policy_Sales_Channel</th>\n",
       "      <th>Vintage</th>\n",
       "      <th>Response</th>\n",
       "    </tr>\n",
       "  </thead>\n",
       "  <tbody>\n",
       "    <tr>\n",
       "      <th>0</th>\n",
       "      <td>0</td>\n",
       "      <td>Male</td>\n",
       "      <td>21</td>\n",
       "      <td>1</td>\n",
       "      <td>35.0</td>\n",
       "      <td>0</td>\n",
       "      <td>1-2 Year</td>\n",
       "      <td>Yes</td>\n",
       "      <td>65101.0</td>\n",
       "      <td>124.0</td>\n",
       "      <td>187</td>\n",
       "      <td>0</td>\n",
       "    </tr>\n",
       "    <tr>\n",
       "      <th>1</th>\n",
       "      <td>1</td>\n",
       "      <td>Male</td>\n",
       "      <td>43</td>\n",
       "      <td>1</td>\n",
       "      <td>28.0</td>\n",
       "      <td>0</td>\n",
       "      <td>&gt; 2 Years</td>\n",
       "      <td>Yes</td>\n",
       "      <td>58911.0</td>\n",
       "      <td>26.0</td>\n",
       "      <td>288</td>\n",
       "      <td>1</td>\n",
       "    </tr>\n",
       "    <tr>\n",
       "      <th>2</th>\n",
       "      <td>2</td>\n",
       "      <td>Female</td>\n",
       "      <td>25</td>\n",
       "      <td>1</td>\n",
       "      <td>14.0</td>\n",
       "      <td>1</td>\n",
       "      <td>&lt; 1 Year</td>\n",
       "      <td>No</td>\n",
       "      <td>38043.0</td>\n",
       "      <td>152.0</td>\n",
       "      <td>254</td>\n",
       "      <td>0</td>\n",
       "    </tr>\n",
       "    <tr>\n",
       "      <th>3</th>\n",
       "      <td>3</td>\n",
       "      <td>Female</td>\n",
       "      <td>35</td>\n",
       "      <td>1</td>\n",
       "      <td>1.0</td>\n",
       "      <td>0</td>\n",
       "      <td>1-2 Year</td>\n",
       "      <td>Yes</td>\n",
       "      <td>2630.0</td>\n",
       "      <td>156.0</td>\n",
       "      <td>76</td>\n",
       "      <td>0</td>\n",
       "    </tr>\n",
       "    <tr>\n",
       "      <th>4</th>\n",
       "      <td>4</td>\n",
       "      <td>Female</td>\n",
       "      <td>36</td>\n",
       "      <td>1</td>\n",
       "      <td>15.0</td>\n",
       "      <td>1</td>\n",
       "      <td>1-2 Year</td>\n",
       "      <td>No</td>\n",
       "      <td>31951.0</td>\n",
       "      <td>152.0</td>\n",
       "      <td>294</td>\n",
       "      <td>0</td>\n",
       "    </tr>\n",
       "  </tbody>\n",
       "</table>\n",
       "</div>"
      ],
      "text/plain": [
       "   id  Gender  Age  Driving_License  Region_Code  Previously_Insured  \\\n",
       "0   0    Male   21                1         35.0                   0   \n",
       "1   1    Male   43                1         28.0                   0   \n",
       "2   2  Female   25                1         14.0                   1   \n",
       "3   3  Female   35                1          1.0                   0   \n",
       "4   4  Female   36                1         15.0                   1   \n",
       "\n",
       "  Vehicle_Age Vehicle_Damage  Annual_Premium  Policy_Sales_Channel  Vintage  \\\n",
       "0    1-2 Year            Yes         65101.0                 124.0      187   \n",
       "1   > 2 Years            Yes         58911.0                  26.0      288   \n",
       "2    < 1 Year             No         38043.0                 152.0      254   \n",
       "3    1-2 Year            Yes          2630.0                 156.0       76   \n",
       "4    1-2 Year             No         31951.0                 152.0      294   \n",
       "\n",
       "   Response  \n",
       "0         0  \n",
       "1         1  \n",
       "2         0  \n",
       "3         0  \n",
       "4         0  "
      ]
     },
     "execution_count": 3,
     "metadata": {},
     "output_type": "execute_result"
    }
   ],
   "source": [
    "# Read the data\n",
    "train_df = pd.read_csv('/kaggle/input/playground-series-s4e7/train.csv')\n",
    "test_df = pd.read_csv('/kaggle/input/playground-series-s4e7/test.csv')\n",
    "\n",
    "train_df.head()"
   ]
  },
  {
   "cell_type": "code",
   "execution_count": 4,
   "id": "9dd60641",
   "metadata": {
    "execution": {
     "iopub.execute_input": "2024-07-03T23:54:10.891637Z",
     "iopub.status.busy": "2024-07-03T23:54:10.890736Z",
     "iopub.status.idle": "2024-07-03T23:54:10.907164Z",
     "shell.execute_reply": "2024-07-03T23:54:10.906219Z"
    },
    "papermill": {
     "duration": 0.027334,
     "end_time": "2024-07-03T23:54:10.909228",
     "exception": false,
     "start_time": "2024-07-03T23:54:10.881894",
     "status": "completed"
    },
    "tags": []
   },
   "outputs": [
    {
     "data": {
      "text/html": [
       "<div>\n",
       "<style scoped>\n",
       "    .dataframe tbody tr th:only-of-type {\n",
       "        vertical-align: middle;\n",
       "    }\n",
       "\n",
       "    .dataframe tbody tr th {\n",
       "        vertical-align: top;\n",
       "    }\n",
       "\n",
       "    .dataframe thead th {\n",
       "        text-align: right;\n",
       "    }\n",
       "</style>\n",
       "<table border=\"1\" class=\"dataframe\">\n",
       "  <thead>\n",
       "    <tr style=\"text-align: right;\">\n",
       "      <th></th>\n",
       "      <th>id</th>\n",
       "      <th>Gender</th>\n",
       "      <th>Age</th>\n",
       "      <th>Driving_License</th>\n",
       "      <th>Region_Code</th>\n",
       "      <th>Previously_Insured</th>\n",
       "      <th>Vehicle_Age</th>\n",
       "      <th>Vehicle_Damage</th>\n",
       "      <th>Annual_Premium</th>\n",
       "      <th>Policy_Sales_Channel</th>\n",
       "      <th>Vintage</th>\n",
       "    </tr>\n",
       "  </thead>\n",
       "  <tbody>\n",
       "    <tr>\n",
       "      <th>0</th>\n",
       "      <td>11504798</td>\n",
       "      <td>Female</td>\n",
       "      <td>20</td>\n",
       "      <td>1</td>\n",
       "      <td>47.0</td>\n",
       "      <td>0</td>\n",
       "      <td>&lt; 1 Year</td>\n",
       "      <td>No</td>\n",
       "      <td>2630.0</td>\n",
       "      <td>160.0</td>\n",
       "      <td>228</td>\n",
       "    </tr>\n",
       "    <tr>\n",
       "      <th>1</th>\n",
       "      <td>11504799</td>\n",
       "      <td>Male</td>\n",
       "      <td>47</td>\n",
       "      <td>1</td>\n",
       "      <td>28.0</td>\n",
       "      <td>0</td>\n",
       "      <td>1-2 Year</td>\n",
       "      <td>Yes</td>\n",
       "      <td>37483.0</td>\n",
       "      <td>124.0</td>\n",
       "      <td>123</td>\n",
       "    </tr>\n",
       "    <tr>\n",
       "      <th>2</th>\n",
       "      <td>11504800</td>\n",
       "      <td>Male</td>\n",
       "      <td>47</td>\n",
       "      <td>1</td>\n",
       "      <td>43.0</td>\n",
       "      <td>0</td>\n",
       "      <td>1-2 Year</td>\n",
       "      <td>Yes</td>\n",
       "      <td>2630.0</td>\n",
       "      <td>26.0</td>\n",
       "      <td>271</td>\n",
       "    </tr>\n",
       "    <tr>\n",
       "      <th>3</th>\n",
       "      <td>11504801</td>\n",
       "      <td>Female</td>\n",
       "      <td>22</td>\n",
       "      <td>1</td>\n",
       "      <td>47.0</td>\n",
       "      <td>1</td>\n",
       "      <td>&lt; 1 Year</td>\n",
       "      <td>No</td>\n",
       "      <td>24502.0</td>\n",
       "      <td>152.0</td>\n",
       "      <td>115</td>\n",
       "    </tr>\n",
       "    <tr>\n",
       "      <th>4</th>\n",
       "      <td>11504802</td>\n",
       "      <td>Male</td>\n",
       "      <td>51</td>\n",
       "      <td>1</td>\n",
       "      <td>19.0</td>\n",
       "      <td>0</td>\n",
       "      <td>1-2 Year</td>\n",
       "      <td>No</td>\n",
       "      <td>34115.0</td>\n",
       "      <td>124.0</td>\n",
       "      <td>148</td>\n",
       "    </tr>\n",
       "  </tbody>\n",
       "</table>\n",
       "</div>"
      ],
      "text/plain": [
       "         id  Gender  Age  Driving_License  Region_Code  Previously_Insured  \\\n",
       "0  11504798  Female   20                1         47.0                   0   \n",
       "1  11504799    Male   47                1         28.0                   0   \n",
       "2  11504800    Male   47                1         43.0                   0   \n",
       "3  11504801  Female   22                1         47.0                   1   \n",
       "4  11504802    Male   51                1         19.0                   0   \n",
       "\n",
       "  Vehicle_Age Vehicle_Damage  Annual_Premium  Policy_Sales_Channel  Vintage  \n",
       "0    < 1 Year             No          2630.0                 160.0      228  \n",
       "1    1-2 Year            Yes         37483.0                 124.0      123  \n",
       "2    1-2 Year            Yes          2630.0                  26.0      271  \n",
       "3    < 1 Year             No         24502.0                 152.0      115  \n",
       "4    1-2 Year             No         34115.0                 124.0      148  "
      ]
     },
     "execution_count": 4,
     "metadata": {},
     "output_type": "execute_result"
    }
   ],
   "source": [
    "test_df.head()"
   ]
  },
  {
   "cell_type": "markdown",
   "id": "a0b4118c",
   "metadata": {
    "papermill": {
     "duration": 0.008675,
     "end_time": "2024-07-03T23:54:10.925949",
     "exception": false,
     "start_time": "2024-07-03T23:54:10.917274",
     "status": "completed"
    },
    "tags": []
   },
   "source": [
    "\n",
    "# **target visualisation**"
   ]
  },
  {
   "cell_type": "code",
   "execution_count": 5,
   "id": "a5fdab72",
   "metadata": {
    "execution": {
     "iopub.execute_input": "2024-07-03T23:54:10.944505Z",
     "iopub.status.busy": "2024-07-03T23:54:10.944196Z",
     "iopub.status.idle": "2024-07-03T23:54:11.055465Z",
     "shell.execute_reply": "2024-07-03T23:54:11.054374Z"
    },
    "papermill": {
     "duration": 0.122855,
     "end_time": "2024-07-03T23:54:11.057543",
     "exception": false,
     "start_time": "2024-07-03T23:54:10.934688",
     "status": "completed"
    },
    "tags": []
   },
   "outputs": [],
   "source": [
    "#response \n",
    "target_counts = train_df['Response'].value_counts(normalize=True) * 100"
   ]
  },
  {
   "cell_type": "code",
   "execution_count": 6,
   "id": "acbf63eb",
   "metadata": {
    "execution": {
     "iopub.execute_input": "2024-07-03T23:54:11.076640Z",
     "iopub.status.busy": "2024-07-03T23:54:11.076320Z",
     "iopub.status.idle": "2024-07-03T23:54:11.083371Z",
     "shell.execute_reply": "2024-07-03T23:54:11.082473Z"
    },
    "papermill": {
     "duration": 0.019247,
     "end_time": "2024-07-03T23:54:11.085490",
     "exception": false,
     "start_time": "2024-07-03T23:54:11.066243",
     "status": "completed"
    },
    "tags": []
   },
   "outputs": [
    {
     "data": {
      "text/plain": [
       "Response\n",
       "0    87.700271\n",
       "1    12.299729\n",
       "Name: proportion, dtype: float64"
      ]
     },
     "execution_count": 6,
     "metadata": {},
     "output_type": "execute_result"
    }
   ],
   "source": [
    "target_counts"
   ]
  },
  {
   "cell_type": "code",
   "execution_count": 7,
   "id": "1fcf38da",
   "metadata": {
    "execution": {
     "iopub.execute_input": "2024-07-03T23:54:11.103694Z",
     "iopub.status.busy": "2024-07-03T23:54:11.103398Z",
     "iopub.status.idle": "2024-07-03T23:54:11.285834Z",
     "shell.execute_reply": "2024-07-03T23:54:11.284413Z"
    },
    "papermill": {
     "duration": 0.194962,
     "end_time": "2024-07-03T23:54:11.289317",
     "exception": false,
     "start_time": "2024-07-03T23:54:11.094355",
     "status": "completed"
    },
    "tags": []
   },
   "outputs": [
    {
     "data": {
      "image/png": "[encoded data removed]",
      "text/plain": [
       "<Figure size 800x600 with 1 Axes>"
      ]
     },
     "metadata": {},
     "output_type": "display_data"
    }
   ],
   "source": [
    "import matplotlib.pyplot as plt\n",
    "\n",
    "# Plotting a pie chart\n",
    "plt.figure(figsize=(8, 6))\n",
    "plt.pie(target_counts, labels=target_counts.index, autopct='%1.1f%%', startangle=90, colors=['#ff9999','#66b3ff'])\n",
    "plt.title('Percentage Distribution of Response (target) Column')\n",
    "plt.show()"
   ]
  },
  {
   "cell_type": "markdown",
   "id": "c8131118",
   "metadata": {
    "papermill": {
     "duration": 0.016955,
     "end_time": "2024-07-03T23:54:11.324705",
     "exception": false,
     "start_time": "2024-07-03T23:54:11.307750",
     "status": "completed"
    },
    "tags": []
   },
   "source": [
    "# **Missing Values**"
   ]
  },
  {
   "cell_type": "code",
   "execution_count": 8,
   "id": "c450ffbb",
   "metadata": {
    "execution": {
     "iopub.execute_input": "2024-07-03T23:54:11.353194Z",
     "iopub.status.busy": "2024-07-03T23:54:11.352842Z",
     "iopub.status.idle": "2024-07-03T23:54:14.701469Z",
     "shell.execute_reply": "2024-07-03T23:54:14.700257Z"
    },
    "papermill": {
     "duration": 3.360825,
     "end_time": "2024-07-03T23:54:14.703720",
     "exception": false,
     "start_time": "2024-07-03T23:54:11.342895",
     "status": "completed"
    },
    "tags": []
   },
   "outputs": [
    {
     "data": {
      "text/plain": [
       "id                      0\n",
       "Gender                  0\n",
       "Age                     0\n",
       "Driving_License         0\n",
       "Region_Code             0\n",
       "Previously_Insured      0\n",
       "Vehicle_Age             0\n",
       "Vehicle_Damage          0\n",
       "Annual_Premium          0\n",
       "Policy_Sales_Channel    0\n",
       "Vintage                 0\n",
       "Response                0\n",
       "dtype: int64"
      ]
     },
     "execution_count": 8,
     "metadata": {},
     "output_type": "execute_result"
    }
   ],
   "source": [
    "train_df.isnull().sum()"
   ]
  },
  {
   "cell_type": "code",
   "execution_count": 9,
   "id": "a2241621",
   "metadata": {
    "execution": {
     "iopub.execute_input": "2024-07-03T23:54:14.724250Z",
     "iopub.status.busy": "2024-07-03T23:54:14.723949Z",
     "iopub.status.idle": "2024-07-03T23:54:14.747637Z",
     "shell.execute_reply": "2024-07-03T23:54:14.746711Z"
    },
    "papermill": {
     "duration": 0.036447,
     "end_time": "2024-07-03T23:54:14.749693",
     "exception": false,
     "start_time": "2024-07-03T23:54:14.713246",
     "status": "completed"
    },
    "tags": []
   },
   "outputs": [
    {
     "data": {
      "text/html": [
       "<div>\n",
       "<style scoped>\n",
       "    .dataframe tbody tr th:only-of-type {\n",
       "        vertical-align: middle;\n",
       "    }\n",
       "\n",
       "    .dataframe tbody tr th {\n",
       "        vertical-align: top;\n",
       "    }\n",
       "\n",
       "    .dataframe thead th {\n",
       "        text-align: right;\n",
       "    }\n",
       "</style>\n",
       "<table border=\"1\" class=\"dataframe\">\n",
       "  <thead>\n",
       "    <tr style=\"text-align: right;\">\n",
       "      <th></th>\n",
       "      <th>id</th>\n",
       "      <th>Gender</th>\n",
       "      <th>Age</th>\n",
       "      <th>Driving_License</th>\n",
       "      <th>Region_Code</th>\n",
       "      <th>Previously_Insured</th>\n",
       "      <th>Vehicle_Age</th>\n",
       "      <th>Vehicle_Damage</th>\n",
       "      <th>Annual_Premium</th>\n",
       "      <th>Policy_Sales_Channel</th>\n",
       "      <th>Vintage</th>\n",
       "      <th>Response</th>\n",
       "    </tr>\n",
       "  </thead>\n",
       "  <tbody>\n",
       "    <tr>\n",
       "      <th>0</th>\n",
       "      <td>0</td>\n",
       "      <td>Male</td>\n",
       "      <td>21</td>\n",
       "      <td>1</td>\n",
       "      <td>35.0</td>\n",
       "      <td>0</td>\n",
       "      <td>1-2 Year</td>\n",
       "      <td>Yes</td>\n",
       "      <td>65101.0</td>\n",
       "      <td>124.0</td>\n",
       "      <td>187</td>\n",
       "      <td>0</td>\n",
       "    </tr>\n",
       "    <tr>\n",
       "      <th>1</th>\n",
       "      <td>1</td>\n",
       "      <td>Male</td>\n",
       "      <td>43</td>\n",
       "      <td>1</td>\n",
       "      <td>28.0</td>\n",
       "      <td>0</td>\n",
       "      <td>&gt; 2 Years</td>\n",
       "      <td>Yes</td>\n",
       "      <td>58911.0</td>\n",
       "      <td>26.0</td>\n",
       "      <td>288</td>\n",
       "      <td>1</td>\n",
       "    </tr>\n",
       "    <tr>\n",
       "      <th>2</th>\n",
       "      <td>2</td>\n",
       "      <td>Female</td>\n",
       "      <td>25</td>\n",
       "      <td>1</td>\n",
       "      <td>14.0</td>\n",
       "      <td>1</td>\n",
       "      <td>&lt; 1 Year</td>\n",
       "      <td>No</td>\n",
       "      <td>38043.0</td>\n",
       "      <td>152.0</td>\n",
       "      <td>254</td>\n",
       "      <td>0</td>\n",
       "    </tr>\n",
       "    <tr>\n",
       "      <th>3</th>\n",
       "      <td>3</td>\n",
       "      <td>Female</td>\n",
       "      <td>35</td>\n",
       "      <td>1</td>\n",
       "      <td>1.0</td>\n",
       "      <td>0</td>\n",
       "      <td>1-2 Year</td>\n",
       "      <td>Yes</td>\n",
       "      <td>2630.0</td>\n",
       "      <td>156.0</td>\n",
       "      <td>76</td>\n",
       "      <td>0</td>\n",
       "    </tr>\n",
       "    <tr>\n",
       "      <th>4</th>\n",
       "      <td>4</td>\n",
       "      <td>Female</td>\n",
       "      <td>36</td>\n",
       "      <td>1</td>\n",
       "      <td>15.0</td>\n",
       "      <td>1</td>\n",
       "      <td>1-2 Year</td>\n",
       "      <td>No</td>\n",
       "      <td>31951.0</td>\n",
       "      <td>152.0</td>\n",
       "      <td>294</td>\n",
       "      <td>0</td>\n",
       "    </tr>\n",
       "    <tr>\n",
       "      <th>...</th>\n",
       "      <td>...</td>\n",
       "      <td>...</td>\n",
       "      <td>...</td>\n",
       "      <td>...</td>\n",
       "      <td>...</td>\n",
       "      <td>...</td>\n",
       "      <td>...</td>\n",
       "      <td>...</td>\n",
       "      <td>...</td>\n",
       "      <td>...</td>\n",
       "      <td>...</td>\n",
       "      <td>...</td>\n",
       "    </tr>\n",
       "    <tr>\n",
       "      <th>11504793</th>\n",
       "      <td>11504793</td>\n",
       "      <td>Male</td>\n",
       "      <td>48</td>\n",
       "      <td>1</td>\n",
       "      <td>6.0</td>\n",
       "      <td>0</td>\n",
       "      <td>1-2 Year</td>\n",
       "      <td>Yes</td>\n",
       "      <td>27412.0</td>\n",
       "      <td>26.0</td>\n",
       "      <td>218</td>\n",
       "      <td>0</td>\n",
       "    </tr>\n",
       "    <tr>\n",
       "      <th>11504794</th>\n",
       "      <td>11504794</td>\n",
       "      <td>Female</td>\n",
       "      <td>26</td>\n",
       "      <td>1</td>\n",
       "      <td>36.0</td>\n",
       "      <td>0</td>\n",
       "      <td>&lt; 1 Year</td>\n",
       "      <td>Yes</td>\n",
       "      <td>29509.0</td>\n",
       "      <td>152.0</td>\n",
       "      <td>115</td>\n",
       "      <td>1</td>\n",
       "    </tr>\n",
       "    <tr>\n",
       "      <th>11504795</th>\n",
       "      <td>11504795</td>\n",
       "      <td>Female</td>\n",
       "      <td>29</td>\n",
       "      <td>1</td>\n",
       "      <td>32.0</td>\n",
       "      <td>1</td>\n",
       "      <td>&lt; 1 Year</td>\n",
       "      <td>No</td>\n",
       "      <td>2630.0</td>\n",
       "      <td>152.0</td>\n",
       "      <td>189</td>\n",
       "      <td>0</td>\n",
       "    </tr>\n",
       "    <tr>\n",
       "      <th>11504796</th>\n",
       "      <td>11504796</td>\n",
       "      <td>Female</td>\n",
       "      <td>51</td>\n",
       "      <td>1</td>\n",
       "      <td>28.0</td>\n",
       "      <td>0</td>\n",
       "      <td>1-2 Year</td>\n",
       "      <td>Yes</td>\n",
       "      <td>48443.0</td>\n",
       "      <td>26.0</td>\n",
       "      <td>274</td>\n",
       "      <td>1</td>\n",
       "    </tr>\n",
       "    <tr>\n",
       "      <th>11504797</th>\n",
       "      <td>11504797</td>\n",
       "      <td>Male</td>\n",
       "      <td>25</td>\n",
       "      <td>1</td>\n",
       "      <td>28.0</td>\n",
       "      <td>1</td>\n",
       "      <td>&lt; 1 Year</td>\n",
       "      <td>No</td>\n",
       "      <td>32855.0</td>\n",
       "      <td>152.0</td>\n",
       "      <td>189</td>\n",
       "      <td>0</td>\n",
       "    </tr>\n",
       "  </tbody>\n",
       "</table>\n",
       "<p>11504798 rows × 12 columns</p>\n",
       "</div>"
      ],
      "text/plain": [
       "                id  Gender  Age  Driving_License  Region_Code  \\\n",
       "0                0    Male   21                1         35.0   \n",
       "1                1    Male   43                1         28.0   \n",
       "2                2  Female   25                1         14.0   \n",
       "3                3  Female   35                1          1.0   \n",
       "4                4  Female   36                1         15.0   \n",
       "...            ...     ...  ...              ...          ...   \n",
       "11504793  11504793    Male   48                1          6.0   \n",
       "11504794  11504794  Female   26                1         36.0   \n",
       "11504795  11504795  Female   29                1         32.0   \n",
       "11504796  11504796  Female   51                1         28.0   \n",
       "11504797  11504797    Male   25                1         28.0   \n",
       "\n",
       "          Previously_Insured Vehicle_Age Vehicle_Damage  Annual_Premium  \\\n",
       "0                          0    1-2 Year            Yes         65101.0   \n",
       "1                          0   > 2 Years            Yes         58911.0   \n",
       "2                          1    < 1 Year             No         38043.0   \n",
       "3                          0    1-2 Year            Yes          2630.0   \n",
       "4                          1    1-2 Year             No         31951.0   \n",
       "...                      ...         ...            ...             ...   \n",
       "11504793                   0    1-2 Year            Yes         27412.0   \n",
       "11504794                   0    < 1 Year            Yes         29509.0   \n",
       "11504795                   1    < 1 Year             No          2630.0   \n",
       "11504796                   0    1-2 Year            Yes         48443.0   \n",
       "11504797                   1    < 1 Year             No         32855.0   \n",
       "\n",
       "          Policy_Sales_Channel  Vintage  Response  \n",
       "0                        124.0      187         0  \n",
       "1                         26.0      288         1  \n",
       "2                        152.0      254         0  \n",
       "3                        156.0       76         0  \n",
       "4                        152.0      294         0  \n",
       "...                        ...      ...       ...  \n",
       "11504793                  26.0      218         0  \n",
       "11504794                 152.0      115         1  \n",
       "11504795                 152.0      189         0  \n",
       "11504796                  26.0      274         1  \n",
       "11504797                 152.0      189         0  \n",
       "\n",
       "[11504798 rows x 12 columns]"
      ]
     },
     "execution_count": 9,
     "metadata": {},
     "output_type": "execute_result"
    }
   ],
   "source": [
    "train_df"
   ]
  },
  {
   "cell_type": "code",
   "execution_count": 10,
   "id": "3094e990",
   "metadata": {
    "execution": {
     "iopub.execute_input": "2024-07-03T23:54:14.769934Z",
     "iopub.status.busy": "2024-07-03T23:54:14.769609Z",
     "iopub.status.idle": "2024-07-03T23:54:14.778943Z",
     "shell.execute_reply": "2024-07-03T23:54:14.778049Z"
    },
    "papermill": {
     "duration": 0.021946,
     "end_time": "2024-07-03T23:54:14.780956",
     "exception": false,
     "start_time": "2024-07-03T23:54:14.759010",
     "status": "completed"
    },
    "tags": []
   },
   "outputs": [],
   "source": [
    "from sklearn.preprocessing import LabelEncoder\n",
    "from sklearn.preprocessing import StandardScaler , MinMaxScaler , RobustScaler\n",
    "le = LabelEncoder()\n",
    "test_id = test_df[\"id\"]\n",
    "def cleandata(data):\n",
    "    data = data.drop(columns = [\"id\"])\n",
    "    data[\"Gender\"] =le.fit_transform(data[\"Gender\"]) \n",
    "    data[\"Vehicle_Damage\"] = le.fit_transform(data[\"Vehicle_Damage\"])\n",
    "    experience_mapping = {\n",
    "    \"< 1 Year\": 0,\n",
    "    \"1-2 Year\": 1,\n",
    "    \"> 2 Years\": 2\n",
    "     }\n",
    "    data[\"Vehicle_Age\"] =data[\"Vehicle_Age\"].map(experience_mapping) \n",
    "    float_cols = data.select_dtypes(include=['float']).columns\n",
    "    data[float_cols] = data[float_cols].astype(int)\n",
    "    return data\n",
    "    \n",
    "    "
   ]
  },
  {
   "cell_type": "code",
   "execution_count": 11,
   "id": "a9c32ac1",
   "metadata": {
    "execution": {
     "iopub.execute_input": "2024-07-03T23:54:14.800447Z",
     "iopub.status.busy": "2024-07-03T23:54:14.800157Z",
     "iopub.status.idle": "2024-07-03T23:54:28.651926Z",
     "shell.execute_reply": "2024-07-03T23:54:28.650819Z"
    },
    "papermill": {
     "duration": 13.864268,
     "end_time": "2024-07-03T23:54:28.654352",
     "exception": false,
     "start_time": "2024-07-03T23:54:14.790084",
     "status": "completed"
    },
    "tags": []
   },
   "outputs": [],
   "source": [
    "train_df = cleandata(train_df)\n",
    "test_df = cleandata(test_df)"
   ]
  },
  {
   "cell_type": "code",
   "execution_count": 12,
   "id": "40887a30",
   "metadata": {
    "execution": {
     "iopub.execute_input": "2024-07-03T23:54:28.673668Z",
     "iopub.status.busy": "2024-07-03T23:54:28.673358Z",
     "iopub.status.idle": "2024-07-03T23:54:28.688586Z",
     "shell.execute_reply": "2024-07-03T23:54:28.687606Z"
    },
    "papermill": {
     "duration": 0.027305,
     "end_time": "2024-07-03T23:54:28.690694",
     "exception": false,
     "start_time": "2024-07-03T23:54:28.663389",
     "status": "completed"
    },
    "tags": []
   },
   "outputs": [
    {
     "data": {
      "text/html": [
       "<div>\n",
       "<style scoped>\n",
       "    .dataframe tbody tr th:only-of-type {\n",
       "        vertical-align: middle;\n",
       "    }\n",
       "\n",
       "    .dataframe tbody tr th {\n",
       "        vertical-align: top;\n",
       "    }\n",
       "\n",
       "    .dataframe thead th {\n",
       "        text-align: right;\n",
       "    }\n",
       "</style>\n",
       "<table border=\"1\" class=\"dataframe\">\n",
       "  <thead>\n",
       "    <tr style=\"text-align: right;\">\n",
       "      <th></th>\n",
       "      <th>Gender</th>\n",
       "      <th>Age</th>\n",
       "      <th>Driving_License</th>\n",
       "      <th>Region_Code</th>\n",
       "      <th>Previously_Insured</th>\n",
       "      <th>Vehicle_Age</th>\n",
       "      <th>Vehicle_Damage</th>\n",
       "      <th>Annual_Premium</th>\n",
       "      <th>Policy_Sales_Channel</th>\n",
       "      <th>Vintage</th>\n",
       "      <th>Response</th>\n",
       "    </tr>\n",
       "  </thead>\n",
       "  <tbody>\n",
       "    <tr>\n",
       "      <th>0</th>\n",
       "      <td>1</td>\n",
       "      <td>21</td>\n",
       "      <td>1</td>\n",
       "      <td>35</td>\n",
       "      <td>0</td>\n",
       "      <td>1</td>\n",
       "      <td>1</td>\n",
       "      <td>65101</td>\n",
       "      <td>124</td>\n",
       "      <td>187</td>\n",
       "      <td>0</td>\n",
       "    </tr>\n",
       "    <tr>\n",
       "      <th>1</th>\n",
       "      <td>1</td>\n",
       "      <td>43</td>\n",
       "      <td>1</td>\n",
       "      <td>28</td>\n",
       "      <td>0</td>\n",
       "      <td>2</td>\n",
       "      <td>1</td>\n",
       "      <td>58911</td>\n",
       "      <td>26</td>\n",
       "      <td>288</td>\n",
       "      <td>1</td>\n",
       "    </tr>\n",
       "    <tr>\n",
       "      <th>2</th>\n",
       "      <td>0</td>\n",
       "      <td>25</td>\n",
       "      <td>1</td>\n",
       "      <td>14</td>\n",
       "      <td>1</td>\n",
       "      <td>0</td>\n",
       "      <td>0</td>\n",
       "      <td>38043</td>\n",
       "      <td>152</td>\n",
       "      <td>254</td>\n",
       "      <td>0</td>\n",
       "    </tr>\n",
       "    <tr>\n",
       "      <th>3</th>\n",
       "      <td>0</td>\n",
       "      <td>35</td>\n",
       "      <td>1</td>\n",
       "      <td>1</td>\n",
       "      <td>0</td>\n",
       "      <td>1</td>\n",
       "      <td>1</td>\n",
       "      <td>2630</td>\n",
       "      <td>156</td>\n",
       "      <td>76</td>\n",
       "      <td>0</td>\n",
       "    </tr>\n",
       "    <tr>\n",
       "      <th>4</th>\n",
       "      <td>0</td>\n",
       "      <td>36</td>\n",
       "      <td>1</td>\n",
       "      <td>15</td>\n",
       "      <td>1</td>\n",
       "      <td>1</td>\n",
       "      <td>0</td>\n",
       "      <td>31951</td>\n",
       "      <td>152</td>\n",
       "      <td>294</td>\n",
       "      <td>0</td>\n",
       "    </tr>\n",
       "    <tr>\n",
       "      <th>...</th>\n",
       "      <td>...</td>\n",
       "      <td>...</td>\n",
       "      <td>...</td>\n",
       "      <td>...</td>\n",
       "      <td>...</td>\n",
       "      <td>...</td>\n",
       "      <td>...</td>\n",
       "      <td>...</td>\n",
       "      <td>...</td>\n",
       "      <td>...</td>\n",
       "      <td>...</td>\n",
       "    </tr>\n",
       "    <tr>\n",
       "      <th>11504793</th>\n",
       "      <td>1</td>\n",
       "      <td>48</td>\n",
       "      <td>1</td>\n",
       "      <td>6</td>\n",
       "      <td>0</td>\n",
       "      <td>1</td>\n",
       "      <td>1</td>\n",
       "      <td>27412</td>\n",
       "      <td>26</td>\n",
       "      <td>218</td>\n",
       "      <td>0</td>\n",
       "    </tr>\n",
       "    <tr>\n",
       "      <th>11504794</th>\n",
       "      <td>0</td>\n",
       "      <td>26</td>\n",
       "      <td>1</td>\n",
       "      <td>36</td>\n",
       "      <td>0</td>\n",
       "      <td>0</td>\n",
       "      <td>1</td>\n",
       "      <td>29509</td>\n",
       "      <td>152</td>\n",
       "      <td>115</td>\n",
       "      <td>1</td>\n",
       "    </tr>\n",
       "    <tr>\n",
       "      <th>11504795</th>\n",
       "      <td>0</td>\n",
       "      <td>29</td>\n",
       "      <td>1</td>\n",
       "      <td>32</td>\n",
       "      <td>1</td>\n",
       "      <td>0</td>\n",
       "      <td>0</td>\n",
       "      <td>2630</td>\n",
       "      <td>152</td>\n",
       "      <td>189</td>\n",
       "      <td>0</td>\n",
       "    </tr>\n",
       "    <tr>\n",
       "      <th>11504796</th>\n",
       "      <td>0</td>\n",
       "      <td>51</td>\n",
       "      <td>1</td>\n",
       "      <td>28</td>\n",
       "      <td>0</td>\n",
       "      <td>1</td>\n",
       "      <td>1</td>\n",
       "      <td>48443</td>\n",
       "      <td>26</td>\n",
       "      <td>274</td>\n",
       "      <td>1</td>\n",
       "    </tr>\n",
       "    <tr>\n",
       "      <th>11504797</th>\n",
       "      <td>1</td>\n",
       "      <td>25</td>\n",
       "      <td>1</td>\n",
       "      <td>28</td>\n",
       "      <td>1</td>\n",
       "      <td>0</td>\n",
       "      <td>0</td>\n",
       "      <td>32855</td>\n",
       "      <td>152</td>\n",
       "      <td>189</td>\n",
       "      <td>0</td>\n",
       "    </tr>\n",
       "  </tbody>\n",
       "</table>\n",
       "<p>11504798 rows × 11 columns</p>\n",
       "</div>"
      ],
      "text/plain": [
       "          Gender  Age  Driving_License  Region_Code  Previously_Insured  \\\n",
       "0              1   21                1           35                   0   \n",
       "1              1   43                1           28                   0   \n",
       "2              0   25                1           14                   1   \n",
       "3              0   35                1            1                   0   \n",
       "4              0   36                1           15                   1   \n",
       "...          ...  ...              ...          ...                 ...   \n",
       "11504793       1   48                1            6                   0   \n",
       "11504794       0   26                1           36                   0   \n",
       "11504795       0   29                1           32                   1   \n",
       "11504796       0   51                1           28                   0   \n",
       "11504797       1   25                1           28                   1   \n",
       "\n",
       "          Vehicle_Age  Vehicle_Damage  Annual_Premium  Policy_Sales_Channel  \\\n",
       "0                   1               1           65101                   124   \n",
       "1                   2               1           58911                    26   \n",
       "2                   0               0           38043                   152   \n",
       "3                   1               1            2630                   156   \n",
       "4                   1               0           31951                   152   \n",
       "...               ...             ...             ...                   ...   \n",
       "11504793            1               1           27412                    26   \n",
       "11504794            0               1           29509                   152   \n",
       "11504795            0               0            2630                   152   \n",
       "11504796            1               1           48443                    26   \n",
       "11504797            0               0           32855                   152   \n",
       "\n",
       "          Vintage  Response  \n",
       "0             187         0  \n",
       "1             288         1  \n",
       "2             254         0  \n",
       "3              76         0  \n",
       "4             294         0  \n",
       "...           ...       ...  \n",
       "11504793      218         0  \n",
       "11504794      115         1  \n",
       "11504795      189         0  \n",
       "11504796      274         1  \n",
       "11504797      189         0  \n",
       "\n",
       "[11504798 rows x 11 columns]"
      ]
     },
     "execution_count": 12,
     "metadata": {},
     "output_type": "execute_result"
    }
   ],
   "source": [
    "train_df"
   ]
  },
  {
   "cell_type": "code",
   "execution_count": 13,
   "id": "9e5400c2",
   "metadata": {
    "execution": {
     "iopub.execute_input": "2024-07-03T23:54:28.710922Z",
     "iopub.status.busy": "2024-07-03T23:54:28.710625Z",
     "iopub.status.idle": "2024-07-03T23:54:28.725343Z",
     "shell.execute_reply": "2024-07-03T23:54:28.724484Z"
    },
    "papermill": {
     "duration": 0.027294,
     "end_time": "2024-07-03T23:54:28.727451",
     "exception": false,
     "start_time": "2024-07-03T23:54:28.700157",
     "status": "completed"
    },
    "tags": []
   },
   "outputs": [
    {
     "data": {
      "text/html": [
       "<div>\n",
       "<style scoped>\n",
       "    .dataframe tbody tr th:only-of-type {\n",
       "        vertical-align: middle;\n",
       "    }\n",
       "\n",
       "    .dataframe tbody tr th {\n",
       "        vertical-align: top;\n",
       "    }\n",
       "\n",
       "    .dataframe thead th {\n",
       "        text-align: right;\n",
       "    }\n",
       "</style>\n",
       "<table border=\"1\" class=\"dataframe\">\n",
       "  <thead>\n",
       "    <tr style=\"text-align: right;\">\n",
       "      <th></th>\n",
       "      <th>Gender</th>\n",
       "      <th>Age</th>\n",
       "      <th>Driving_License</th>\n",
       "      <th>Region_Code</th>\n",
       "      <th>Previously_Insured</th>\n",
       "      <th>Vehicle_Age</th>\n",
       "      <th>Vehicle_Damage</th>\n",
       "      <th>Annual_Premium</th>\n",
       "      <th>Policy_Sales_Channel</th>\n",
       "      <th>Vintage</th>\n",
       "    </tr>\n",
       "  </thead>\n",
       "  <tbody>\n",
       "    <tr>\n",
       "      <th>0</th>\n",
       "      <td>0</td>\n",
       "      <td>20</td>\n",
       "      <td>1</td>\n",
       "      <td>47</td>\n",
       "      <td>0</td>\n",
       "      <td>0</td>\n",
       "      <td>0</td>\n",
       "      <td>2630</td>\n",
       "      <td>160</td>\n",
       "      <td>228</td>\n",
       "    </tr>\n",
       "    <tr>\n",
       "      <th>1</th>\n",
       "      <td>1</td>\n",
       "      <td>47</td>\n",
       "      <td>1</td>\n",
       "      <td>28</td>\n",
       "      <td>0</td>\n",
       "      <td>1</td>\n",
       "      <td>1</td>\n",
       "      <td>37483</td>\n",
       "      <td>124</td>\n",
       "      <td>123</td>\n",
       "    </tr>\n",
       "    <tr>\n",
       "      <th>2</th>\n",
       "      <td>1</td>\n",
       "      <td>47</td>\n",
       "      <td>1</td>\n",
       "      <td>43</td>\n",
       "      <td>0</td>\n",
       "      <td>1</td>\n",
       "      <td>1</td>\n",
       "      <td>2630</td>\n",
       "      <td>26</td>\n",
       "      <td>271</td>\n",
       "    </tr>\n",
       "    <tr>\n",
       "      <th>3</th>\n",
       "      <td>0</td>\n",
       "      <td>22</td>\n",
       "      <td>1</td>\n",
       "      <td>47</td>\n",
       "      <td>1</td>\n",
       "      <td>0</td>\n",
       "      <td>0</td>\n",
       "      <td>24502</td>\n",
       "      <td>152</td>\n",
       "      <td>115</td>\n",
       "    </tr>\n",
       "    <tr>\n",
       "      <th>4</th>\n",
       "      <td>1</td>\n",
       "      <td>51</td>\n",
       "      <td>1</td>\n",
       "      <td>19</td>\n",
       "      <td>0</td>\n",
       "      <td>1</td>\n",
       "      <td>0</td>\n",
       "      <td>34115</td>\n",
       "      <td>124</td>\n",
       "      <td>148</td>\n",
       "    </tr>\n",
       "    <tr>\n",
       "      <th>...</th>\n",
       "      <td>...</td>\n",
       "      <td>...</td>\n",
       "      <td>...</td>\n",
       "      <td>...</td>\n",
       "      <td>...</td>\n",
       "      <td>...</td>\n",
       "      <td>...</td>\n",
       "      <td>...</td>\n",
       "      <td>...</td>\n",
       "      <td>...</td>\n",
       "    </tr>\n",
       "    <tr>\n",
       "      <th>7669861</th>\n",
       "      <td>1</td>\n",
       "      <td>57</td>\n",
       "      <td>1</td>\n",
       "      <td>28</td>\n",
       "      <td>0</td>\n",
       "      <td>1</td>\n",
       "      <td>1</td>\n",
       "      <td>51661</td>\n",
       "      <td>124</td>\n",
       "      <td>109</td>\n",
       "    </tr>\n",
       "    <tr>\n",
       "      <th>7669862</th>\n",
       "      <td>1</td>\n",
       "      <td>28</td>\n",
       "      <td>1</td>\n",
       "      <td>50</td>\n",
       "      <td>1</td>\n",
       "      <td>0</td>\n",
       "      <td>0</td>\n",
       "      <td>25651</td>\n",
       "      <td>152</td>\n",
       "      <td>184</td>\n",
       "    </tr>\n",
       "    <tr>\n",
       "      <th>7669863</th>\n",
       "      <td>1</td>\n",
       "      <td>47</td>\n",
       "      <td>1</td>\n",
       "      <td>33</td>\n",
       "      <td>1</td>\n",
       "      <td>1</td>\n",
       "      <td>0</td>\n",
       "      <td>2630</td>\n",
       "      <td>138</td>\n",
       "      <td>63</td>\n",
       "    </tr>\n",
       "    <tr>\n",
       "      <th>7669864</th>\n",
       "      <td>1</td>\n",
       "      <td>30</td>\n",
       "      <td>1</td>\n",
       "      <td>28</td>\n",
       "      <td>0</td>\n",
       "      <td>0</td>\n",
       "      <td>1</td>\n",
       "      <td>38866</td>\n",
       "      <td>124</td>\n",
       "      <td>119</td>\n",
       "    </tr>\n",
       "    <tr>\n",
       "      <th>7669865</th>\n",
       "      <td>1</td>\n",
       "      <td>23</td>\n",
       "      <td>1</td>\n",
       "      <td>46</td>\n",
       "      <td>1</td>\n",
       "      <td>0</td>\n",
       "      <td>0</td>\n",
       "      <td>27498</td>\n",
       "      <td>152</td>\n",
       "      <td>79</td>\n",
       "    </tr>\n",
       "  </tbody>\n",
       "</table>\n",
       "<p>7669866 rows × 10 columns</p>\n",
       "</div>"
      ],
      "text/plain": [
       "         Gender  Age  Driving_License  Region_Code  Previously_Insured  \\\n",
       "0             0   20                1           47                   0   \n",
       "1             1   47                1           28                   0   \n",
       "2             1   47                1           43                   0   \n",
       "3             0   22                1           47                   1   \n",
       "4             1   51                1           19                   0   \n",
       "...         ...  ...              ...          ...                 ...   \n",
       "7669861       1   57                1           28                   0   \n",
       "7669862       1   28                1           50                   1   \n",
       "7669863       1   47                1           33                   1   \n",
       "7669864       1   30                1           28                   0   \n",
       "7669865       1   23                1           46                   1   \n",
       "\n",
       "         Vehicle_Age  Vehicle_Damage  Annual_Premium  Policy_Sales_Channel  \\\n",
       "0                  0               0            2630                   160   \n",
       "1                  1               1           37483                   124   \n",
       "2                  1               1            2630                    26   \n",
       "3                  0               0           24502                   152   \n",
       "4                  1               0           34115                   124   \n",
       "...              ...             ...             ...                   ...   \n",
       "7669861            1               1           51661                   124   \n",
       "7669862            0               0           25651                   152   \n",
       "7669863            1               0            2630                   138   \n",
       "7669864            0               1           38866                   124   \n",
       "7669865            0               0           27498                   152   \n",
       "\n",
       "         Vintage  \n",
       "0            228  \n",
       "1            123  \n",
       "2            271  \n",
       "3            115  \n",
       "4            148  \n",
       "...          ...  \n",
       "7669861      109  \n",
       "7669862      184  \n",
       "7669863       63  \n",
       "7669864      119  \n",
       "7669865       79  \n",
       "\n",
       "[7669866 rows x 10 columns]"
      ]
     },
     "execution_count": 13,
     "metadata": {},
     "output_type": "execute_result"
    }
   ],
   "source": [
    "test_df"
   ]
  },
  {
   "cell_type": "markdown",
   "id": "b28fb2ca",
   "metadata": {
    "papermill": {
     "duration": 0.009785,
     "end_time": "2024-07-03T23:54:28.748241",
     "exception": false,
     "start_time": "2024-07-03T23:54:28.738456",
     "status": "completed"
    },
    "tags": []
   },
   "source": [
    "# **Split Data**"
   ]
  },
  {
   "cell_type": "code",
   "execution_count": 14,
   "id": "2ba7ec84",
   "metadata": {
    "execution": {
     "iopub.execute_input": "2024-07-03T23:54:28.768647Z",
     "iopub.status.busy": "2024-07-03T23:54:28.768383Z",
     "iopub.status.idle": "2024-07-03T23:54:31.961319Z",
     "shell.execute_reply": "2024-07-03T23:54:31.960469Z"
    },
    "papermill": {
     "duration": 3.2056,
     "end_time": "2024-07-03T23:54:31.963676",
     "exception": false,
     "start_time": "2024-07-03T23:54:28.758076",
     "status": "completed"
    },
    "tags": []
   },
   "outputs": [],
   "source": [
    "from sklearn.model_selection import train_test_split\n",
    "X = train_df.drop(\"Response\" , axis = 1)\n",
    "y = train_df[\"Response\"]\n",
    "X_train , X_test , y_train , y_test = train_test_split(X, y, test_size=0.2, random_state=42)\n"
   ]
  },
  {
   "cell_type": "markdown",
   "id": "693fa0f5",
   "metadata": {
    "papermill": {
     "duration": 0.009328,
     "end_time": "2024-07-03T23:54:31.982941",
     "exception": false,
     "start_time": "2024-07-03T23:54:31.973613",
     "status": "completed"
    },
    "tags": []
   },
   "source": [
    "# **Scaling data**"
   ]
  },
  {
   "cell_type": "code",
   "execution_count": 15,
   "id": "12ed444b",
   "metadata": {
    "execution": {
     "iopub.execute_input": "2024-07-03T23:54:32.002438Z",
     "iopub.status.busy": "2024-07-03T23:54:32.002117Z",
     "iopub.status.idle": "2024-07-03T23:54:36.361269Z",
     "shell.execute_reply": "2024-07-03T23:54:36.360219Z"
    },
    "papermill": {
     "duration": 4.371521,
     "end_time": "2024-07-03T23:54:36.363614",
     "exception": false,
     "start_time": "2024-07-03T23:54:31.992093",
     "status": "completed"
    },
    "tags": []
   },
   "outputs": [],
   "source": [
    "from sklearn.preprocessing import StandardScaler , MinMaxScaler , RobustScaler\n",
    "scaler =RobustScaler()\n",
    "X_train = scaler.fit_transform(X_train)\n",
    "X_test = scaler.transform(X_test)"
   ]
  },
  {
   "cell_type": "markdown",
   "id": "84be6fcf",
   "metadata": {
    "papermill": {
     "duration": 0.009525,
     "end_time": "2024-07-03T23:54:36.383012",
     "exception": false,
     "start_time": "2024-07-03T23:54:36.373487",
     "status": "completed"
    },
    "tags": []
   },
   "source": [
    "# **Trying XGBClassifier & GridSearch**"
   ]
  },
  {
   "cell_type": "code",
   "execution_count": 16,
   "id": "8a0e9c2f",
   "metadata": {
    "execution": {
     "iopub.execute_input": "2024-07-03T23:54:36.403252Z",
     "iopub.status.busy": "2024-07-03T23:54:36.402929Z",
     "iopub.status.idle": "2024-07-04T00:25:31.215446Z",
     "shell.execute_reply": "2024-07-04T00:25:31.214618Z"
    },
    "papermill": {
     "duration": 1854.825262,
     "end_time": "2024-07-04T00:25:31.217684",
     "exception": false,
     "start_time": "2024-07-03T23:54:36.392422",
     "status": "completed"
    },
    "tags": []
   },
   "outputs": [
    {
     "name": "stdout",
     "output_type": "stream",
     "text": [
      "Fitting 3 folds for each of 10 candidates, totalling 30 fits\n",
      "Best Parameters: {'num_leaves': 127, 'n_estimators': 150, 'max_depth': 5, 'learning_rate': 0.5}\n",
      "Best Score: 0.8802023677513663\n"
     ]
    }
   ],
   "source": [
    "from sklearn.model_selection import GridSearchCV\n",
    "from sklearn.model_selection import RandomizedSearchCV\n",
    "param_grid = {\n",
    "    'n_estimators': [50, 100, 150],\n",
    "    'learning_rate': [0.01, 0.1, 0.5],\n",
    "    'max_depth': [10, 5, 20],\n",
    "    'num_leaves': [31, 62, 127],\n",
    "}\n",
    "\n",
    "# Initialize the classifier\n",
    "XGB_model = XGBClassifier(use_label_encoder=False, eval_metric='logloss')\n",
    "\n",
    "# Create GridSearchCV object\n",
    "grid_search = RandomizedSearchCV(estimator=XGB_model, param_distributions=param_grid, cv=3, scoring='accuracy', verbose=1)\n",
    "\n",
    "# Fit GridSearchCV\n",
    "grid_search.fit(X_train, y_train)\n",
    "\n",
    "# Best parameters and best score\n",
    "print(\"Best Parameters:\", grid_search.best_params_)\n",
    "print(\"Best Score:\", grid_search.best_score_)\n",
    "\n",
    "# You can also use the best estimator to make predictions\n",
    "best_estimator = grid_search.best_estimator_\n",
    "predictions = best_estimator.predict(X_test)"
   ]
  },
  {
   "cell_type": "markdown",
   "id": "ff771600",
   "metadata": {
    "papermill": {
     "duration": 0.009463,
     "end_time": "2024-07-04T00:25:31.237171",
     "exception": false,
     "start_time": "2024-07-04T00:25:31.227708",
     "status": "completed"
    },
    "tags": []
   },
   "source": [
    "# **Scaling test**"
   ]
  },
  {
   "cell_type": "code",
   "execution_count": 17,
   "id": "21f76a67",
   "metadata": {
    "execution": {
     "iopub.execute_input": "2024-07-04T00:25:31.257537Z",
     "iopub.status.busy": "2024-07-04T00:25:31.257239Z",
     "iopub.status.idle": "2024-07-04T00:25:34.568867Z",
     "shell.execute_reply": "2024-07-04T00:25:34.568085Z"
    },
    "papermill": {
     "duration": 3.324626,
     "end_time": "2024-07-04T00:25:34.571159",
     "exception": false,
     "start_time": "2024-07-04T00:25:31.246533",
     "status": "completed"
    },
    "tags": []
   },
   "outputs": [],
   "source": [
    "test = scaler.fit_transform(test_df)"
   ]
  },
  {
   "cell_type": "markdown",
   "id": "2f24c36e",
   "metadata": {
    "papermill": {
     "duration": 0.010235,
     "end_time": "2024-07-04T00:25:34.592467",
     "exception": false,
     "start_time": "2024-07-04T00:25:34.582232",
     "status": "completed"
    },
    "tags": []
   },
   "source": [
    "# **Prediction**"
   ]
  },
  {
   "cell_type": "code",
   "execution_count": 18,
   "id": "accbb335",
   "metadata": {
    "execution": {
     "iopub.execute_input": "2024-07-04T00:25:34.613221Z",
     "iopub.status.busy": "2024-07-04T00:25:34.612900Z",
     "iopub.status.idle": "2024-07-04T00:25:41.905594Z",
     "shell.execute_reply": "2024-07-04T00:25:41.904831Z"
    },
    "papermill": {
     "duration": 7.305734,
     "end_time": "2024-07-04T00:25:41.907911",
     "exception": false,
     "start_time": "2024-07-04T00:25:34.602177",
     "status": "completed"
    },
    "tags": []
   },
   "outputs": [],
   "source": [
    "prediction = best_estimator.predict(test)"
   ]
  },
  {
   "cell_type": "code",
   "execution_count": 19,
   "id": "75231fe6",
   "metadata": {
    "execution": {
     "iopub.execute_input": "2024-07-04T00:25:41.928715Z",
     "iopub.status.busy": "2024-07-04T00:25:41.928455Z",
     "iopub.status.idle": "2024-07-04T00:25:41.934169Z",
     "shell.execute_reply": "2024-07-04T00:25:41.933323Z"
    },
    "papermill": {
     "duration": 0.018314,
     "end_time": "2024-07-04T00:25:41.936198",
     "exception": false,
     "start_time": "2024-07-04T00:25:41.917884",
     "status": "completed"
    },
    "tags": []
   },
   "outputs": [
    {
     "data": {
      "text/plain": [
       "array([0, 0, 0, ..., 0, 1, 0])"
      ]
     },
     "execution_count": 19,
     "metadata": {},
     "output_type": "execute_result"
    }
   ],
   "source": [
    "prediction"
   ]
  },
  {
   "cell_type": "markdown",
   "id": "bab45158",
   "metadata": {
    "papermill": {
     "duration": 0.00962,
     "end_time": "2024-07-04T00:25:41.955620",
     "exception": false,
     "start_time": "2024-07-04T00:25:41.946000",
     "status": "completed"
    },
    "tags": []
   },
   "source": [
    "# **submission**"
   ]
  },
  {
   "cell_type": "code",
   "execution_count": 20,
   "id": "59811e0f",
   "metadata": {
    "execution": {
     "iopub.execute_input": "2024-07-04T00:25:41.976198Z",
     "iopub.status.busy": "2024-07-04T00:25:41.975944Z",
     "iopub.status.idle": "2024-07-04T00:25:42.031260Z",
     "shell.execute_reply": "2024-07-04T00:25:42.030315Z"
    },
    "papermill": {
     "duration": 0.067831,
     "end_time": "2024-07-04T00:25:42.033182",
     "exception": false,
     "start_time": "2024-07-04T00:25:41.965351",
     "status": "completed"
    },
    "tags": []
   },
   "outputs": [
    {
     "data": {
      "text/html": [
       "<div>\n",
       "<style scoped>\n",
       "    .dataframe tbody tr th:only-of-type {\n",
       "        vertical-align: middle;\n",
       "    }\n",
       "\n",
       "    .dataframe tbody tr th {\n",
       "        vertical-align: top;\n",
       "    }\n",
       "\n",
       "    .dataframe thead th {\n",
       "        text-align: right;\n",
       "    }\n",
       "</style>\n",
       "<table border=\"1\" class=\"dataframe\">\n",
       "  <thead>\n",
       "    <tr style=\"text-align: right;\">\n",
       "      <th></th>\n",
       "      <th>id</th>\n",
       "      <th>Response</th>\n",
       "    </tr>\n",
       "  </thead>\n",
       "  <tbody>\n",
       "    <tr>\n",
       "      <th>0</th>\n",
       "      <td>11504798</td>\n",
       "      <td>0</td>\n",
       "    </tr>\n",
       "    <tr>\n",
       "      <th>1</th>\n",
       "      <td>11504799</td>\n",
       "      <td>0</td>\n",
       "    </tr>\n",
       "    <tr>\n",
       "      <th>2</th>\n",
       "      <td>11504800</td>\n",
       "      <td>0</td>\n",
       "    </tr>\n",
       "    <tr>\n",
       "      <th>3</th>\n",
       "      <td>11504801</td>\n",
       "      <td>0</td>\n",
       "    </tr>\n",
       "    <tr>\n",
       "      <th>4</th>\n",
       "      <td>11504802</td>\n",
       "      <td>0</td>\n",
       "    </tr>\n",
       "  </tbody>\n",
       "</table>\n",
       "</div>"
      ],
      "text/plain": [
       "         id  Response\n",
       "0  11504798         0\n",
       "1  11504799         0\n",
       "2  11504800         0\n",
       "3  11504801         0\n",
       "4  11504802         0"
      ]
     },
     "execution_count": 20,
     "metadata": {},
     "output_type": "execute_result"
    }
   ],
   "source": [
    "output = pd.DataFrame({'id': test_id,\n",
    "                       'Response': prediction})\n",
    "\n",
    "output.head()"
   ]
  },
  {
   "cell_type": "code",
   "execution_count": 21,
   "id": "b5a294cf",
   "metadata": {
    "execution": {
     "iopub.execute_input": "2024-07-04T00:25:42.054481Z",
     "iopub.status.busy": "2024-07-04T00:25:42.054226Z",
     "iopub.status.idle": "2024-07-04T00:25:51.307712Z",
     "shell.execute_reply": "2024-07-04T00:25:51.306957Z"
    },
    "papermill": {
     "duration": 9.266663,
     "end_time": "2024-07-04T00:25:51.310026",
     "exception": false,
     "start_time": "2024-07-04T00:25:42.043363",
     "status": "completed"
    },
    "tags": []
   },
   "outputs": [],
   "source": [
    "output.to_csv(\"/kaggle/working/submission.csv\",index=False)"
   ]
  }
 ],
 "metadata": {
  "kaggle": {
   "accelerator": "nvidiaTeslaT4",
   "dataSources": [
    {
     "databundleVersionId": 8930475,
     "sourceId": 73291,
     "sourceType": "competition"
    }
   ],
   "dockerImageVersionId": 30732,
   "isGpuEnabled": true,
   "isInternetEnabled": true,
   "language": "python",
   "sourceType": "notebook"
  },
  "kernelspec": {
   "display_name": "Python 3",
   "language": "python",
   "name": "python3"
  },
  "language_info": {
   "codemirror_mode": {
    "name": "ipython",
    "version": 3
   },
   "file_extension": ".py",
   "mimetype": "text/x-python",
   "name": "python",
   "nbconvert_exporter": "python",
   "pygments_lexer": "ipython3",
   "version": "3.10.13"
  },
  "papermill": {
   "default_parameters": {},
   "duration": 1941.562952,
   "end_time": "2024-07-04T00:25:52.044009",
   "environment_variables": {},
   "exception": null,
   "input_path": "__notebook__.ipynb",
   "output_path": "__notebook__.ipynb",
   "parameters": {},
   "start_time": "2024-07-03T23:53:30.481057",
   "version": "2.5.0"
  }
 },
 "nbformat": 4,
 "nbformat_minor": 5
}
